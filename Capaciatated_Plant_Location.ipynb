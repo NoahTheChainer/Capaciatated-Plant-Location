{
  "nbformat": 4,
  "nbformat_minor": 0,
  "metadata": {
    "colab": {
      "provenance": [],
      "authorship_tag": "ABX9TyMr75zxtpTMzlCjI3WqSiki",
      "include_colab_link": true
    },
    "kernelspec": {
      "name": "python3",
      "display_name": "Python 3"
    },
    "language_info": {
      "name": "python"
    }
  },
  "cells": [
    {
      "cell_type": "markdown",
      "metadata": {
        "id": "view-in-github",
        "colab_type": "text"
      },
      "source": [
        "<a href=\"https://colab.research.google.com/github/NoahTheChainer/Capaciatated-Plant-Location/blob/main/Capaciatated_Plant_Location.ipynb\" target=\"_parent\"><img src=\"https://colab.research.google.com/assets/colab-badge.svg\" alt=\"Open In Colab\"/></a>"
      ]
    },
    {
      "cell_type": "code",
      "execution_count": null,
      "metadata": {
        "colab": {
          "base_uri": "https://localhost:8080/"
        },
        "id": "47GoIkKtdvF_",
        "outputId": "ad7f9c01-a45b-4535-8d4e-3046f7da35b6"
      },
      "outputs": [
        {
          "output_type": "stream",
          "name": "stdout",
          "text": [
            "Collecting pulp\n",
            "  Downloading PuLP-3.0.2-py3-none-any.whl.metadata (6.7 kB)\n",
            "Downloading PuLP-3.0.2-py3-none-any.whl (17.7 MB)\n",
            "\u001b[2K   \u001b[90m━━━━━━━━━━━━━━━━━━━━━━━━━━━━━━━━━━━━━━━━\u001b[0m \u001b[32m17.7/17.7 MB\u001b[0m \u001b[31m80.7 MB/s\u001b[0m eta \u001b[36m0:00:00\u001b[0m\n",
            "\u001b[?25hInstalling collected packages: pulp\n",
            "Successfully installed pulp-3.0.2\n"
          ]
        }
      ],
      "source": [
        "!pip install pulp\n",
        "from pulp import *\n",
        "import pandas as pd"
      ]
    },
    {
      "cell_type": "code",
      "source": [
        "# Demand table\n",
        "demand = pd.DataFrame({\n",
        "    'Supply_Region': ['USA', 'Germany', 'Japan', 'Brazil', 'India'],\n",
        "    'Dmd': [2719.6, 84.1, 1676.8, 145.4, 156.4]\n",
        "})\n",
        "demand.set_index('Supply_Region', inplace=True)\n",
        "\n",
        "# Variable cost table\n",
        "var_cost = pd.DataFrame({\n",
        "    'Supply_Region': ['USA', 'Germany', 'Japan', 'Brazil', 'India'],\n",
        "    'USA': [6, 13, 20, 12, 17],\n",
        "    'Germany': [13, 6, 14, 14, 13],\n",
        "    'Japan': [20, 14, 3, 21, 9],\n",
        "    'Brazil': [12, 14, 21, 8, 21],\n",
        "    'India': [22, 13, 10, 23, 8]\n",
        "})\n",
        "var_cost.set_index('Supply_Region', inplace=True)\n",
        "\n",
        "# Fix cost table\n",
        "fix_cost = pd.DataFrame({\n",
        "    'Supply_Region': ['USA', 'Germany', 'Japan', 'Brazil', 'India'],\n",
        "    'Low_Cap': [6500, 4980, 6230, 3230, 2110],\n",
        "    'High_Cap': [9500, 7270, 9100, 4730, 3080]\n",
        "})\n",
        "fix_cost.set_index('Supply_Region', inplace=True)\n",
        "\n",
        "# Capabilities table\n",
        "cap = pd.DataFrame({\n",
        "    'Supply_Region': ['USA', 'Germany', 'Japan', 'Brazil', 'India'],\n",
        "    'Low_Cap': [500, 500, 500, 500, 500],\n",
        "    'High_Cap': [1500, 1500, 1500, 1500, 1500]\n",
        "})\n",
        "cap.set_index('Supply_Region', inplace=True)"
      ],
      "metadata": {
        "id": "VE09f8hpzdbL"
      },
      "execution_count": null,
      "outputs": []
    },
    {
      "cell_type": "code",
      "source": [
        "# Initialize Class\n",
        "model = LpProblem(\"Capacitated Plant Location Model\", LpMinimize)\n",
        "\n",
        "# Define Decision Variables\n",
        "loc = ['USA', 'Germany', 'Japan', 'Brazil', 'India']\n",
        "size = ['Low_Cap','High_Cap']\n",
        "x = LpVariable.dicts(\"production_\",\n",
        "                     [(i,j) for i in loc for j in loc],\n",
        "                     lowBound=0, upBound=None, cat='Continuous')\n",
        "y = LpVariable.dicts(\"plant_\",\n",
        "                     [(i,s) for s in size for i in loc], cat='Binary')"
      ],
      "metadata": {
        "id": "Z668OYUupd-c",
        "colab": {
          "base_uri": "https://localhost:8080/"
        },
        "outputId": "98006cd0-b8d4-4d74-9dc5-3531b8054dda"
      },
      "execution_count": null,
      "outputs": [
        {
          "output_type": "stream",
          "name": "stderr",
          "text": [
            "/usr/local/lib/python3.11/dist-packages/pulp/pulp.py:1423: UserWarning: Spaces are not permitted in the name. Converted to '_'\n",
            "  warnings.warn(\"Spaces are not permitted in the name. Converted to '_'\")\n"
          ]
        }
      ]
    },
    {
      "cell_type": "code",
      "source": [
        "# Define objective function\n",
        "model += (lpSum([fix_cost.loc[i,s] * y[(i,s)]\n",
        "                 for s in size for i in loc])\n",
        "          + lpSum([var_cost.loc[i,j] * x[(i,j)]\n",
        "                   for i in loc for j in loc]))"
      ],
      "metadata": {
        "id": "LlGB_qafpo6H"
      },
      "execution_count": null,
      "outputs": []
    },
    {
      "cell_type": "code",
      "source": [
        "# Define the constraints\n",
        "for j in loc:\n",
        "    model += lpSum([x[(i, j)] for i in loc]) == demand.loc[j,'Dmd']\n",
        "for i in loc:\n",
        "    model += lpSum([x[(i,j)] for j in loc]) <= lpSum([cap.loc[i,s] * y[i,s]\n",
        "                                                       for s in size])\n"
      ],
      "metadata": {
        "id": "vpWoqsQ2dxZc"
      },
      "execution_count": null,
      "outputs": []
    },
    {
      "cell_type": "code",
      "source": [
        "model.solve()\n",
        "\n",
        "# Print the decision variables\n",
        "print(LpStatus[model.status])\n",
        "\n",
        "print(\"Objective = \", value(model.objective))\n",
        "\n",
        "print(\"\\nDecision Variables\")\n",
        "for v in model.variables():\n",
        "    print(v.name, \"=\", v.varValue)\n",
        "\n",
        "print(\"\\nConstraints\")\n",
        "for name, constraint in model.constraints.items():\n",
        "    print(name, \":\", constraint.value())"
      ],
      "metadata": {
        "colab": {
          "base_uri": "https://localhost:8080/"
        },
        "id": "MGaN9y2_sy9n",
        "outputId": "23509709-f010-444f-c0a0-cc7f0796d28f"
      },
      "execution_count": null,
      "outputs": [
        {
          "output_type": "stream",
          "name": "stdout",
          "text": [
            "Optimal\n",
            "Objective =  58674.09999999999\n",
            "\n",
            "Decision Variables\n",
            "plant__('Brazil',_'High_Cap') = 1.0\n",
            "plant__('Brazil',_'Low_Cap') = 0.0\n",
            "plant__('Germany',_'High_Cap') = 0.0\n",
            "plant__('Germany',_'Low_Cap') = 0.0\n",
            "plant__('India',_'High_Cap') = 0.0\n",
            "plant__('India',_'Low_Cap') = 1.0\n",
            "plant__('Japan',_'High_Cap') = 1.0\n",
            "plant__('Japan',_'Low_Cap') = 0.0\n",
            "plant__('USA',_'High_Cap') = 1.0\n",
            "plant__('USA',_'Low_Cap') = 0.0\n",
            "production__('Brazil',_'Brazil') = 145.4\n",
            "production__('Brazil',_'Germany') = 0.0\n",
            "production__('Brazil',_'India') = 0.0\n",
            "production__('Brazil',_'Japan') = 0.0\n",
            "production__('Brazil',_'USA') = 1219.6\n",
            "production__('Germany',_'Brazil') = 0.0\n",
            "production__('Germany',_'Germany') = 0.0\n",
            "production__('Germany',_'India') = 0.0\n",
            "production__('Germany',_'Japan') = 0.0\n",
            "production__('Germany',_'USA') = 0.0\n",
            "production__('India',_'Brazil') = 0.0\n",
            "production__('India',_'Germany') = 84.1\n",
            "production__('India',_'India') = 156.4\n",
            "production__('India',_'Japan') = 176.8\n",
            "production__('India',_'USA') = 0.0\n",
            "production__('Japan',_'Brazil') = 0.0\n",
            "production__('Japan',_'Germany') = 0.0\n",
            "production__('Japan',_'India') = 0.0\n",
            "production__('Japan',_'Japan') = 1500.0\n",
            "production__('Japan',_'USA') = 0.0\n",
            "production__('USA',_'Brazil') = 0.0\n",
            "production__('USA',_'Germany') = 0.0\n",
            "production__('USA',_'India') = 0.0\n",
            "production__('USA',_'Japan') = 0.0\n",
            "production__('USA',_'USA') = 1500.0\n",
            "\n",
            "Constraints\n",
            "_C1 : 0.0\n",
            "_C2 : 0.0\n",
            "_C3 : 5.684341886080802e-14\n",
            "_C4 : 0.0\n",
            "_C5 : 0.0\n",
            "_C6 : 0.0\n",
            "_C7 : 0.0\n",
            "_C8 : 0.0\n",
            "_C9 : -135.0\n",
            "_C10 : -82.70000000000005\n"
          ]
        }
      ]
    },
    {
      "cell_type": "code",
      "source": [],
      "metadata": {
        "id": "P06bI-rlszAL"
      },
      "execution_count": null,
      "outputs": []
    }
  ]
}